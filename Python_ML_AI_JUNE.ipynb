{
  "nbformat": 4,
  "nbformat_minor": 0,
  "metadata": {
    "colab": {
      "provenance": []
    },
    "kernelspec": {
      "name": "python3",
      "display_name": "Python 3"
    },
    "language_info": {
      "name": "python"
    }
  },
  "cells": [
    {
      "cell_type": "code",
      "execution_count": 1,
      "metadata": {
        "colab": {
          "base_uri": "https://localhost:8080/"
        },
        "id": "P--Dr0hvxBzi",
        "outputId": "d300d110-7fe9-4c00-8d8d-5000dcb3d694"
      },
      "outputs": [
        {
          "output_type": "execute_result",
          "data": {
            "text/plain": [
              "5"
            ]
          },
          "metadata": {},
          "execution_count": 1
        }
      ],
      "source": [
        "2+3"
      ]
    },
    {
      "cell_type": "code",
      "source": [
        "print(\"hello python\")"
      ],
      "metadata": {
        "colab": {
          "base_uri": "https://localhost:8080/"
        },
        "id": "27p_gksRxQ4d",
        "outputId": "c76bd27a-d97b-49d9-d04f-091d01800e56"
      },
      "execution_count": 2,
      "outputs": [
        {
          "output_type": "stream",
          "name": "stdout",
          "text": [
            "hello python\n"
          ]
        }
      ]
    },
    {
      "cell_type": "code",
      "source": [
        "name=\"NDV tech sys\"\n",
        "print(\"My Comany name is..\" +  name)"
      ],
      "metadata": {
        "colab": {
          "base_uri": "https://localhost:8080/"
        },
        "id": "aaw45Xw7xTtL",
        "outputId": "36fe38d7-67dd-4aa5-ecf2-0d1459790c86"
      },
      "execution_count": 3,
      "outputs": [
        {
          "output_type": "stream",
          "name": "stdout",
          "text": [
            "My Comany name is..NDV tech sys\n"
          ]
        }
      ]
    },
    {
      "cell_type": "code",
      "source": [
        "course=\"AI ML\"\n",
        "print(\"iam doing \" + course)"
      ],
      "metadata": {
        "colab": {
          "base_uri": "https://localhost:8080/"
        },
        "id": "PTVZvDK5xa5O",
        "outputId": "4fd286cc-3bbe-47c8-dc24-d3d45e28aaad"
      },
      "execution_count": 4,
      "outputs": [
        {
          "output_type": "stream",
          "name": "stdout",
          "text": [
            "iam doing AI ML\n"
          ]
        }
      ]
    },
    {
      "cell_type": "code",
      "source": [
        "#Arthematic operators\n",
        "# +. - , * , / , % , **\n",
        "\n",
        "\n",
        "# addition\n",
        "2+3\n"
      ],
      "metadata": {
        "colab": {
          "base_uri": "https://localhost:8080/"
        },
        "id": "fKFikaT2xoUw",
        "outputId": "0a63d361-989d-4e35-fb60-4f9f1b9d3c6f"
      },
      "execution_count": 1,
      "outputs": [
        {
          "output_type": "execute_result",
          "data": {
            "text/plain": [
              "5"
            ]
          },
          "metadata": {},
          "execution_count": 1
        }
      ]
    },
    {
      "cell_type": "code",
      "source": [
        "#subtraction\n",
        "56-34"
      ],
      "metadata": {
        "colab": {
          "base_uri": "https://localhost:8080/"
        },
        "id": "OuBnRXKyyn2X",
        "outputId": "3729240f-fa78-4611-bec4-d782be9af1ee"
      },
      "execution_count": 2,
      "outputs": [
        {
          "output_type": "execute_result",
          "data": {
            "text/plain": [
              "22"
            ]
          },
          "metadata": {},
          "execution_count": 2
        }
      ]
    },
    {
      "cell_type": "code",
      "source": [
        "#multiplication\n",
        "3*5"
      ],
      "metadata": {
        "colab": {
          "base_uri": "https://localhost:8080/"
        },
        "id": "muavT5K3yrqG",
        "outputId": "03fb7cba-b229-423c-eb4d-9ddca3719280"
      },
      "execution_count": 3,
      "outputs": [
        {
          "output_type": "execute_result",
          "data": {
            "text/plain": [
              "15"
            ]
          },
          "metadata": {},
          "execution_count": 3
        }
      ]
    },
    {
      "cell_type": "code",
      "source": [
        "#divison\n",
        "45/3"
      ],
      "metadata": {
        "colab": {
          "base_uri": "https://localhost:8080/"
        },
        "id": "3euYSiypywvq",
        "outputId": "49ae0167-d100-4023-e2e6-8cd3baf35b0d"
      },
      "execution_count": 4,
      "outputs": [
        {
          "output_type": "execute_result",
          "data": {
            "text/plain": [
              "15.0"
            ]
          },
          "metadata": {},
          "execution_count": 4
        }
      ]
    },
    {
      "cell_type": "code",
      "source": [
        "#floor divison\n",
        "45//3"
      ],
      "metadata": {
        "colab": {
          "base_uri": "https://localhost:8080/"
        },
        "id": "oo_SyUM4y1iq",
        "outputId": "86cd7b4a-4483-4f36-8a21-c81b152b0463"
      },
      "execution_count": 5,
      "outputs": [
        {
          "output_type": "execute_result",
          "data": {
            "text/plain": [
              "15"
            ]
          },
          "metadata": {},
          "execution_count": 5
        }
      ]
    },
    {
      "cell_type": "code",
      "source": [
        "# modulous\n",
        "45%6"
      ],
      "metadata": {
        "colab": {
          "base_uri": "https://localhost:8080/"
        },
        "id": "7BLEcAvry9z5",
        "outputId": "ccb271ff-c9f6-4cb9-8827-af2d1537cfce"
      },
      "execution_count": 6,
      "outputs": [
        {
          "output_type": "execute_result",
          "data": {
            "text/plain": [
              "3"
            ]
          },
          "metadata": {},
          "execution_count": 6
        }
      ]
    },
    {
      "cell_type": "code",
      "source": [
        "#power\n",
        "3**6"
      ],
      "metadata": {
        "colab": {
          "base_uri": "https://localhost:8080/"
        },
        "id": "DhlYDSIlzI5Y",
        "outputId": "0b6c46d6-7b1b-42e6-d23c-2e2907c59c3c"
      },
      "execution_count": 7,
      "outputs": [
        {
          "output_type": "execute_result",
          "data": {
            "text/plain": [
              "729"
            ]
          },
          "metadata": {},
          "execution_count": 7
        }
      ]
    },
    {
      "cell_type": "code",
      "source": [
        "# variables\n",
        "# variable is storage container which can able to store values as data types\n",
        "# variable name is custom defined name\n",
        "# variable name do not start with number\n",
        "# variable name do not have spaces\n",
        "# variable name do not have special chars\n",
        "# ! @ # $ % ^ & * ( ) + = ' \" \" | \\ ~  ? < >\n",
        "# variable name should not be a python keyword or identifier\n",
        "# if , elif def in as ,....\n",
        "\n",
        "# variable name can allow one special char which is underscore _\n",
        "\n",
        "name = \"srinivas\" # str\n",
        "age=34 # int\n",
        "Qual=\"MCA\" # str\n",
        "Techs=[\"java\",'python','ML'] # list\n",
        "\n"
      ],
      "metadata": {
        "id": "IQ8H3ZouzYzq"
      },
      "execution_count": null,
      "outputs": []
    },
    {
      "cell_type": "code",
      "source": [
        "1empname=\"srini\""
      ],
      "metadata": {
        "colab": {
          "base_uri": "https://localhost:8080/",
          "height": 106
        },
        "id": "SeOoZ3sl0UDM",
        "outputId": "9b9b6fbe-82a8-4a54-aea4-caa078eaf001"
      },
      "execution_count": 8,
      "outputs": [
        {
          "output_type": "error",
          "ename": "SyntaxError",
          "evalue": "invalid decimal literal (<ipython-input-8-2486656919>, line 1)",
          "traceback": [
            "\u001b[0;36m  File \u001b[0;32m\"<ipython-input-8-2486656919>\"\u001b[0;36m, line \u001b[0;32m1\u001b[0m\n\u001b[0;31m    1empname=\"srini\"\u001b[0m\n\u001b[0m    ^\u001b[0m\n\u001b[0;31mSyntaxError\u001b[0m\u001b[0;31m:\u001b[0m invalid decimal literal\n"
          ]
        }
      ]
    },
    {
      "cell_type": "code",
      "source": [
        "emp name =\"srini\"\n",
        "emp name"
      ],
      "metadata": {
        "colab": {
          "base_uri": "https://localhost:8080/",
          "height": 106
        },
        "id": "aD7wsgxy0ZSg",
        "outputId": "50079175-c62b-4471-c4da-8f7fb04c2d0b"
      },
      "execution_count": 9,
      "outputs": [
        {
          "output_type": "error",
          "ename": "SyntaxError",
          "evalue": "invalid syntax (<ipython-input-9-842368858>, line 1)",
          "traceback": [
            "\u001b[0;36m  File \u001b[0;32m\"<ipython-input-9-842368858>\"\u001b[0;36m, line \u001b[0;32m1\u001b[0m\n\u001b[0;31m    emp name =\"srini\"\u001b[0m\n\u001b[0m        ^\u001b[0m\n\u001b[0;31mSyntaxError\u001b[0m\u001b[0;31m:\u001b[0m invalid syntax\n"
          ]
        }
      ]
    },
    {
      "cell_type": "code",
      "source": [
        "emp$name ='srini'\n",
        "emp$name"
      ],
      "metadata": {
        "colab": {
          "base_uri": "https://localhost:8080/",
          "height": 106
        },
        "id": "1IzK2vCK0d-P",
        "outputId": "b0366ee1-32fc-470f-823e-07397b9a9dff"
      },
      "execution_count": 10,
      "outputs": [
        {
          "output_type": "error",
          "ename": "SyntaxError",
          "evalue": "invalid syntax (<ipython-input-10-4016350575>, line 1)",
          "traceback": [
            "\u001b[0;36m  File \u001b[0;32m\"<ipython-input-10-4016350575>\"\u001b[0;36m, line \u001b[0;32m1\u001b[0m\n\u001b[0;31m    emp$name ='srini'\u001b[0m\n\u001b[0m       ^\u001b[0m\n\u001b[0;31mSyntaxError\u001b[0m\u001b[0;31m:\u001b[0m invalid syntax\n"
          ]
        }
      ]
    },
    {
      "cell_type": "code",
      "source": [
        "emp_name=\"srini\"\n",
        "emp_name"
      ],
      "metadata": {
        "colab": {
          "base_uri": "https://localhost:8080/",
          "height": 35
        },
        "id": "oyX1m9ju0lte",
        "outputId": "3bf02c8d-4c95-443c-9a9a-0b0d8c4aea7f"
      },
      "execution_count": 11,
      "outputs": [
        {
          "output_type": "execute_result",
          "data": {
            "text/plain": [
              "'srini'"
            ],
            "application/vnd.google.colaboratory.intrinsic+json": {
              "type": "string"
            }
          },
          "metadata": {},
          "execution_count": 11
        }
      ]
    },
    {
      "cell_type": "code",
      "source": [
        "if =\"srini\"\n",
        "if"
      ],
      "metadata": {
        "colab": {
          "base_uri": "https://localhost:8080/",
          "height": 106
        },
        "id": "pgWMfEUl0qte",
        "outputId": "a3d1285a-0148-4941-f5ad-43ea1ffae088"
      },
      "execution_count": 12,
      "outputs": [
        {
          "output_type": "error",
          "ename": "SyntaxError",
          "evalue": "invalid syntax (<ipython-input-12-3343208225>, line 1)",
          "traceback": [
            "\u001b[0;36m  File \u001b[0;32m\"<ipython-input-12-3343208225>\"\u001b[0;36m, line \u001b[0;32m1\u001b[0m\n\u001b[0;31m    if =\"srini\"\u001b[0m\n\u001b[0m       ^\u001b[0m\n\u001b[0;31mSyntaxError\u001b[0m\u001b[0;31m:\u001b[0m invalid syntax\n"
          ]
        }
      ]
    },
    {
      "cell_type": "code",
      "source": [
        "# datatypes\n",
        "\n",
        "# int\n",
        "x=100\n",
        "print (type(x))\n",
        "# float\n",
        "y=10.234\n",
        "print(type(y))\n",
        "# bool\n",
        "isGraduated= True\n",
        "print(type(isGraduated))\n",
        "# str\n",
        "name = \"NDVTechsys\" # operations\n",
        "print(type(name))\n",
        "# list\n",
        "names =['srini','srini','ramesh','rajesh','suresh','somesh'] # operations\n",
        "print(names)\n",
        "print(type(names)) # list will allow duplicates\n",
        "# tuple\n",
        "fruits=('apple','mango','bannana')\n",
        "print(type(fruits))\n",
        "# set\n",
        "names1 = { 'srini','srini','srini','srini','ramesh','rajesh','suresh','somesh'}\n",
        "print(type(names1)) # set will not allow duplicates\n",
        "print(names1)\n",
        "\n",
        "# dict\n",
        "emp_info={\"emp_name\":\"srini\",\"age\":34,\"Qual\":\"MCA\"}\n",
        "print(type(emp_info))\n",
        "print(emp_info)"
      ],
      "metadata": {
        "colab": {
          "base_uri": "https://localhost:8080/"
        },
        "id": "61-si8_807Ue",
        "outputId": "e2f50c51-237c-4431-fed0-a1305940cd52"
      },
      "execution_count": 22,
      "outputs": [
        {
          "output_type": "stream",
          "name": "stdout",
          "text": [
            "<class 'int'>\n",
            "<class 'float'>\n",
            "<class 'bool'>\n",
            "<class 'str'>\n",
            "['srini', 'srini', 'ramesh', 'rajesh', 'suresh', 'somesh']\n",
            "<class 'list'>\n",
            "<class 'tuple'>\n",
            "<class 'set'>\n",
            "{'ramesh', 'somesh', 'suresh', 'srini', 'rajesh'}\n",
            "<class 'dict'>\n",
            "{'emp_name': 'srini', 'age': 34, 'Qual': 'MCA'}\n"
          ]
        }
      ]
    },
    {
      "cell_type": "code",
      "source": [
        "# list is mutable means we can add objects ,delete objects ,insert objects for list\n",
        "# list is index based [0,1,2,3,4..]\n",
        "# list is ordered collection\n",
        "\n",
        "# tuple is immutable means we cannot add ,delete,insert objects\n",
        "# tuple is index based [0,1,2,3,4,5..]\n",
        "# tuple allowed duplicates\n",
        "# tuple is ordered collection\n",
        "\n",
        "# set is not allowed duplicates\n",
        "# set is not index based : un ordred collection\n",
        "\n",
        "# string also orderd collction\n",
        "# 'srini' ['s','r','i','n','i'] : [0,1,2,3,4]\n",
        "# string is immutable we cannot perform add,delete,insert kind of operations.\n",
        "\n",
        "#dict is collction of key:value pair system\n",
        "# dict we can add , remove ,replace\n",
        "# dict is not ordered collction , no index based\n",
        "# key and value seperated with :\n",
        "\n"
      ],
      "metadata": {
        "id": "8ny18WBE2ajp"
      },
      "execution_count": null,
      "outputs": []
    },
    {
      "cell_type": "code",
      "source": [
        "# python predefined functions\n",
        "\n",
        "# print()\n",
        "# input()\n",
        "# type()\n",
        "# id()\n",
        "\n",
        "\n",
        "# type casting functions\n",
        "# int()\n",
        "# float()\n",
        "# str()\n",
        "# list()\n",
        "# tuple ()\n",
        "# set()\n"
      ],
      "metadata": {
        "id": "xWUS_Vjo46FF"
      },
      "execution_count": null,
      "outputs": []
    },
    {
      "cell_type": "code",
      "source": [
        "# print()\n",
        "print(\"hello python\")\n",
        "print('hello python')\n",
        "print('''hello python''')\n",
        "print(\"\"\"hello python\"\"\")\n"
      ],
      "metadata": {
        "colab": {
          "base_uri": "https://localhost:8080/"
        },
        "id": "iK1fUQ3m5Sf1",
        "outputId": "2f74bbbe-1034-40f0-e883-ec4ee4b1357e"
      },
      "execution_count": 24,
      "outputs": [
        {
          "output_type": "stream",
          "name": "stdout",
          "text": [
            "hello python\n",
            "hello python\n",
            "hello python\n",
            "hello python\n"
          ]
        }
      ]
    },
    {
      "cell_type": "code",
      "source": [
        "#print formating\n",
        "# srinivas teaching python course for 6000 rs\n",
        "name =\"srinivas\"\n",
        "course_name=\"python\"\n",
        "course_price=6000\n",
        "print(name+ \" teching \" + course_name + \" course for \" + str(course_price) + \" rs\")\n",
        "print(\"{0} teching {1} course for {2} rs\".format(name,course_name,course_price))\n",
        "print(f\"{name} teching {course_name} course for {course_price} rs\")"
      ],
      "metadata": {
        "colab": {
          "base_uri": "https://localhost:8080/"
        },
        "id": "o9LIN2w75qBg",
        "outputId": "be91d71a-463b-4b5d-bf54-6ae3583253c8"
      },
      "execution_count": 26,
      "outputs": [
        {
          "output_type": "stream",
          "name": "stdout",
          "text": [
            "srinivas teching python course for 6000 rs\n",
            "srinivas teching python course for 6000 rs\n",
            "srinivas teching python course for 6000 rs\n"
          ]
        }
      ]
    },
    {
      "cell_type": "code",
      "source": [
        "# input()\n",
        "# taking input value from user\n",
        "# input() function will take data deafut string type\n",
        "prd_price=float(input(\"enter your product price\"))\n",
        "prd_discount=float(input(\"enter discount for the product\"))\n",
        "final_price= prd_price-prd_discount # '45000'-'4550' # str-str\n",
        "print(\"final price of the product is..\",final_price)\n"
      ],
      "metadata": {
        "colab": {
          "base_uri": "https://localhost:8080/"
        },
        "id": "y6EBmXWW7Nob",
        "outputId": "9748e836-ca4a-42d9-aa1a-209c3d89c867"
      },
      "execution_count": 28,
      "outputs": [
        {
          "output_type": "stream",
          "name": "stdout",
          "text": [
            "enter your product price45000\n",
            "enter discount for the product4550\n",
            "final price of the product is.. 40450.0\n"
          ]
        }
      ]
    },
    {
      "cell_type": "code",
      "source": [
        "name ='srinivas'\n",
        "print(type(name))\n",
        "print(id(name))"
      ],
      "metadata": {
        "colab": {
          "base_uri": "https://localhost:8080/"
        },
        "id": "bZmD0QHj8Tiq",
        "outputId": "e38574a0-872b-4086-9789-0c2f5c4161d6"
      },
      "execution_count": 31,
      "outputs": [
        {
          "output_type": "stream",
          "name": "stdout",
          "text": [
            "<class 'str'>\n",
            "135497570882736\n"
          ]
        }
      ]
    },
    {
      "cell_type": "code",
      "source": [
        "# operators\n",
        "# loops\n",
        "# conditions\n",
        "# functions\n",
        "# oops\n",
        "# json\n",
        "# mini project"
      ],
      "metadata": {
        "id": "fFvTY3ka8u58"
      },
      "execution_count": null,
      "outputs": []
    }
  ]
}